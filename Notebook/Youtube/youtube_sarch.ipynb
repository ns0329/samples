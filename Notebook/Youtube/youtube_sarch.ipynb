{
 "cells": [
  {
   "cell_type": "markdown",
   "id": "17242a4e-2d85-4dfa-8496-16671e75101f",
   "metadata": {},
   "source": [
    "## STP戦略\n",
    "</br>\n",
    "キーワードに付随した,競合を知る</br>\n",
    "欲：メタ情報から共通項を知る</br>\n",
    "欲：データフレーム→CSVの掃き出しでもいいかも"
   ]
  },
  {
   "cell_type": "code",
   "execution_count": 1,
   "id": "80e44aed-598f-4703-984c-67e20302ae42",
   "metadata": {
    "tags": []
   },
   "outputs": [
    {
     "name": "stderr",
     "output_type": "stream",
     "text": [
      "C:\\Users\\kohiz\\.conda\\envs\\python38\\lib\\site-packages\\tqdm\\auto.py:22: TqdmWarning: IProgress not found. Please update jupyter and ipywidgets. See https://ipywidgets.readthedocs.io/en/stable/user_install.html\n",
      "  from .autonotebook import tqdm as notebook_tqdm\n"
     ]
    }
   ],
   "source": [
    "#analyticsライブラリ\n",
    "import os\n",
    "import re\n",
    "import glob\n",
    "import numpy as np\n",
    "import pandas as pd\n",
    "import seaborn as sns\n",
    "import matplotlib.pyplot as plt\n",
    "import sklearn\n",
    "import torch\n",
    "import datetime\n",
    "import MeCab\n",
    "from sklearn import preprocessing\n",
    "from sklearn.feature_extraction.text import CountVectorizer\n",
    "from sklearn.feature_extraction.text import TfidfTransformer\n",
    "\n",
    "#Google連携ライブラリ\n",
    "import google.oauth2.credentials\n",
    "import google_auth_oauthlib.flow\n",
    "from apiclient.errors import HttpError\n",
    "from googleapiclient.http import MediaIoBaseDownload\n",
    "from google_auth_oauthlib.flow import InstalledAppFlow\n",
    "from googleapiclient.discovery import build"
   ]
  },
  {
   "cell_type": "markdown",
   "id": "fdb65b19-f46b-47ab-9631-801c4af87851",
   "metadata": {},
   "source": [
    "## 認証情報"
   ]
  },
  {
   "cell_type": "code",
   "execution_count": 2,
   "id": "8b03af8d-faf7-48c7-afbd-f935655d1001",
   "metadata": {},
   "outputs": [],
   "source": [
    "# API情報\n",
    "#kohizeri = 'hoge'\n",
    "#youtube_data = 'hoge'\n",
    "DEVELOPER_KEY = 'hoge'\n",
    "youtube_api_dic = {'youtube':'v3', 'youtubereporting':'v1'}\n",
    "YOUTUBE_API_SERVICE_NAME = list(youtube_api_dic.keys())\n",
    "YOUTUBE_API_VERSION = list(youtube_api_dic.values())\n",
    "\n",
    "#YouTube_Data_API\n",
    "youtube_data = build(YOUTUBE_API_SERVICE_NAME[0], \n",
    "                     YOUTUBE_API_VERSION[0],\n",
    "                     developerKey=DEVELOPER_KEY)\n",
    "\n",
    "#YouTube_Analytics_Reporting_API\n",
    "def youtube_reporting():\n",
    "    CLIENT_SECRETS_FILE = 'client_secrets.json'\n",
    "    ##評価系or収益系のスコープ(デフォは評価を指定)\n",
    "    SCOPES = ['https://www.googleapis.com/auth/yt-analytics.readonly',\n",
    "              'https://www.googleapis.com/auth/yt-analytics-monetary.readonly']\n",
    "    flow = InstalledAppFlow.from_client_secrets_file(CLIENT_SECRETS_FILE, SCOPES[0])\n",
    "    credentials = flow.run_console()\n",
    "    return build(YOUTUBE_API_SERVICE_NAME[1], \n",
    "                 YOUTUBE_API_VERSION[1],\n",
    "                 credentials = credentials,\n",
    "                 developerKey=DEVELOPER_KEY)"
   ]
  },
  {
   "cell_type": "markdown",
   "id": "0cd67e54-8b88-43db-be2d-bc9d1d26a9d3",
   "metadata": {},
   "source": [
    "## 検索用関数"
   ]
  },
  {
   "cell_type": "code",
   "execution_count": 3,
   "id": "00a99727-f527-4d73-b3bd-0bab16bbd877",
   "metadata": {},
   "outputs": [],
   "source": [
    "#他パラメータ\n",
    "#channelType       :チャンネルタイプ\n",
    "#eventType         :配信\n",
    "#publishedAfter    :date(YYYY-MM-DD)\n",
    "#publishedBefore   :date(YYYY-MM-DD)\n",
    "#regionCode        :国\n",
    "#topicId           :トピックス\n",
    "#videoCategoryId   :カテゴリー\n",
    "\n",
    "#YouTubeから特定条件で検索する(指定回数分でループ)\n",
    "def search_youtube(q, order: str, loop_num, maxResults: int, date_after):\n",
    "    \n",
    "    nextPageToken = None\n",
    "    lst = []\n",
    "    \n",
    "    #条件検索\n",
    "    for i in range(0, loop_num):\n",
    "        result = youtube_data.search()\\\n",
    "                             .list(q=q, \n",
    "                                   part='id',\n",
    "                                   maxResults=maxResults,\n",
    "                                   order=order, \n",
    "                                   pageToken=nextPageToken,\n",
    "                                   safeSearch='none',\n",
    "                                   publishedAfter=date_after,\n",
    "                                   type='video, channel, playlist')\\\n",
    "                             .execute()\n",
    "        \n",
    "        #動画IDをリスト化\n",
    "        for l in range(0, len(result['items'])):\n",
    "            lst.append(result['items'][l]['id']['videoId'])\n",
    "        \n",
    "        nextPageToken = result['nextPageToken']\n",
    "    \n",
    "    return result, lst "
   ]
  },
  {
   "cell_type": "code",
   "execution_count": 4,
   "id": "df8ffd40-8292-4cda-ae86-0393a50467f4",
   "metadata": {},
   "outputs": [],
   "source": [
    "#他パラメータ\n",
    "#channelType       :チャンネルタイプ\n",
    "#eventType         :配信\n",
    "#publishedAfter    :date(YYYY-MM-DD)\n",
    "#publishedBefore   :date(YYYY-MM-DD)\n",
    "#regionCode        :国\n",
    "#topicId           :トピックス\n",
    "#videoCategoryId   :カテゴリー\n",
    "\n",
    "#YouTubeから特定条件で検索する(限界までループ)\n",
    "def search_youtube_max(q, order: str, maxResults: int, date_after):\n",
    "    \n",
    "    nextPageToken = None\n",
    "    lst = []\n",
    "    \n",
    "    #条件検索\n",
    "    while True:\n",
    "        result = youtube_data.search()\\\n",
    "                             .list(q=q, \n",
    "                                   part='id',\n",
    "                                   maxResults=maxResults,\n",
    "                                   order=order, \n",
    "                                   pageToken=nextPageToken,\n",
    "                                   safeSearch='none',\n",
    "                                   publishedAfter=date_after,\n",
    "                                   type='video, channel, playlist')\\\n",
    "                             .execute()\n",
    "        \n",
    "        #動画IDをリスト化\n",
    "        for l in range(0, len(result['items'])):\n",
    "            lst.append(result['items'][l]['id']['videoId'])\n",
    "        \n",
    "        #nextPageToken = result['nextPageToken']\n",
    "    \n",
    "    return lst"
   ]
  },
  {
   "cell_type": "code",
   "execution_count": 5,
   "id": "93a8652c-43c5-42e6-b3dd-3ce65e06d51e",
   "metadata": {},
   "outputs": [],
   "source": [
    "#YouTube_Videosのメタデータ取得(動画IDを引数とする)\n",
    "def videos_info(result: list):\n",
    "    lst = []\n",
    "    return_elements = ['snippet','contentDetails','statistics','topicDetails']\n",
    "    \n",
    "    #result分ループ\n",
    "    for i, video_id in enumerate(result):\n",
    "        responce = youtube_data.videos()\\\n",
    "                               .list(part=return_elements, id=video_id)\\\n",
    "                               .execute()\n",
    "        lst.append(responce['items'][0])\n",
    "        \n",
    "    return lst"
   ]
  },
  {
   "cell_type": "code",
   "execution_count": 6,
   "id": "5faf5b90-d7c1-4d59-83ee-e2975770eea4",
   "metadata": {},
   "outputs": [],
   "source": [
    "#辞書からDataFrameを作成\n",
    "def output_df(lst):\n",
    "\n",
    "    df1 = pd.DataFrame()\n",
    "    df2 = pd.DataFrame()\n",
    "\n",
    "    #要素数分ループ\n",
    "    for i in range(0, len(lst)):\n",
    "        for _, key1 in enumerate(lst[i].keys()):\n",
    "            #df1\n",
    "            if type(lst[i][key1]) != dict:\n",
    "                df1.loc[0, key1] = lst[i][key1]\n",
    "            else:\n",
    "                for _, key2 in enumerate(lst[i][key1].keys()):\n",
    "                    df1.loc[0, key2] = str(lst[i][key1][key2])\n",
    "        #dfの結合\n",
    "        df2 = pd.concat([df2, df1], axis=0)\n",
    "        df1 = pd.DataFrame()\n",
    "\n",
    "    #データフレーム化\n",
    "    return df2"
   ]
  },
  {
   "cell_type": "code",
   "execution_count": 7,
   "id": "46a91331-66cc-4d76-9ba9-4146283e8f00",
   "metadata": {},
   "outputs": [],
   "source": [
    "#csvの出力\n",
    "def output_csv(key: str, date, df):\n",
    "    file_lst = []\n",
    "    date = date[:10]\n",
    "    for file_name in glob.glob(f'csv/*_youtube_data_{key}_{date}.csv'):\n",
    "        file_lst.append(file_name)\n",
    "\n",
    "    if file_lst == []:\n",
    "        df.to_csv(f'csv/0_youtube_data_{key}_{date}.csv')\n",
    "    else:\n",
    "        txt = file_lst[-1][:(file_lst[-1].find('_'))]\n",
    "        txt = int(txt.replace('csv\\\\', '')) + 1\n",
    "        df.to_csv(f'csv/{txt}_youtube_data_{key}_{date}.csv')"
   ]
  },
  {
   "cell_type": "markdown",
   "id": "23740968-a317-424c-a5e0-2100b30bb357",
   "metadata": {},
   "source": [
    "## 検索"
   ]
  },
  {
   "cell_type": "code",
   "execution_count": 8,
   "id": "7528e91c-c1a4-4be1-8801-10136b69ca53",
   "metadata": {},
   "outputs": [],
   "source": [
    "#quotaの割り当てが圧倒的に足りないので期間を短くしないと動きません\n",
    "# #検索ワード\n",
    "# key = str(input())\n",
    "# date = '2021-01-01T00:00:00Z'\n",
    "\n",
    "# #限界までループするパターン\n",
    "# result = search_youtube_max(q=key,\n",
    "#                             order='viewCount',\n",
    "#                             date_after=date,\n",
    "#                             maxResults=50, )\n",
    "\n",
    "# #videoaのメタデータ\n",
    "# lst = videos_info(result)\n",
    "\n",
    "# #データフレーム化\n",
    "# df = output_df(lst)\n",
    "\n",
    "# #csv出力\n",
    "# output_csv(key, date, df)"
   ]
  },
  {
   "cell_type": "code",
   "execution_count": 9,
   "id": "2161a71d-6f11-487e-8ce7-431391698d03",
   "metadata": {},
   "outputs": [
    {
     "name": "stdout",
     "output_type": "stream",
     "text": [
      " 弾き語り\n"
     ]
    }
   ],
   "source": [
    "#検索ワード\n",
    "key = str(input())\n",
    "date = '2021-01-01T00:00:00Z'\n",
    "\n",
    "#loop_num × maxResultsが総出力数\n",
    "token, result = search_youtube(q=key,\n",
    "                               order='viewCount',\n",
    "                               date_after=date,\n",
    "                               loop_num=8,\n",
    "                               maxResults=50, )\n",
    "\n",
    "#videoaのメタデータ\n",
    "lst = videos_info(result)\n",
    "\n",
    "#データフレーム化\n",
    "df = output_df(lst)\n",
    "\n",
    "#csv出力\n",
    "output_csv(key, date, df)"
   ]
  },
  {
   "cell_type": "code",
   "execution_count": null,
   "id": "94835941-ceb5-4cf6-b461-8d34d23b4762",
   "metadata": {},
   "outputs": [],
   "source": []
  }
 ],
 "metadata": {
  "kernelspec": {
   "display_name": "Python 3 (ipykernel)",
   "language": "python",
   "name": "python3"
  },
  "language_info": {
   "codemirror_mode": {
    "name": "ipython",
    "version": 3
   },
   "file_extension": ".py",
   "mimetype": "text/x-python",
   "name": "python",
   "nbconvert_exporter": "python",
   "pygments_lexer": "ipython3",
   "version": "3.8.12"
  }
 },
 "nbformat": 4,
 "nbformat_minor": 5
}
