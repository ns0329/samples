{
 "cells": [
  {
   "cell_type": "code",
   "execution_count": 14,
   "id": "dd3e2a01-5a01-4d04-a06b-8a28d6b3a492",
   "metadata": {
    "tags": []
   },
   "outputs": [],
   "source": [
    "from selenium import webdriver\n",
    "from selenium.webdriver.chrome.options import Options\n",
    "from selenium.webdriver.support.ui import WebDriverWait\n",
    "from selenium.webdriver.support import expected_conditions as EC\n",
    "from selenium.webdriver.common.by import By\n",
    "from selenium.webdriver.common.action_chains import ActionChains\n",
    "from datetime import datetime \n",
    "from webdriver_manager.chrome import ChromeDriverManager\n",
    "import urllib.parse\n",
    "import re\n",
    "import bs4\n",
    "import json\n",
    "import time\n",
    "import random\n",
    "import os\n",
    "import numpy as np\n",
    "from tqdm import tqdm"
   ]
  },
  {
   "cell_type": "code",
   "execution_count": 15,
   "id": "3fd37fcc-5800-4a33-b934-2764a7910212",
   "metadata": {},
   "outputs": [],
   "source": [
    "##オプション##########################\n",
    "#100はやりすぎかも\n",
    "MIN_COUNT = 50\n",
    "KEYWORD = \"弾き語りさんと繋がりたい\"\n",
    "#弾き語りさんと繋がりたい\n",
    "#####################################"
   ]
  },
  {
   "cell_type": "markdown",
   "id": "e181c070-1c35-48e8-b7c0-1d2e51e5374f",
   "metadata": {
    "tags": []
   },
   "source": [
    "## Instagramログイン関数"
   ]
  },
  {
   "cell_type": "code",
   "execution_count": 16,
   "id": "b0de16b3-063c-41f9-bc80-575a396b9a94",
   "metadata": {},
   "outputs": [],
   "source": [
    "# twitterログイン\n",
    "def do_login(driver):\n",
    "    # ログインURL\n",
    "    DOMAIN_BASE = \"https://www.instagram.com/\"\n",
    "    login_url = DOMAIN_BASE + \"accounts/login/\"\n",
    "    driver.get(login_url)\n",
    "     \n",
    "    # 電話、メールまたはユーザー名のinput要素が読み込まれるまで待機（最大10秒）\n",
    "    elem_id = WebDriverWait(driver, 10).until(\n",
    "        EC.visibility_of_element_located((By.NAME, \"username\"))\n",
    "    )\n",
    "      \n",
    "    try:\n",
    "        # パスワードのinput要素\n",
    "        elem_password = driver.find_element_by_name(\"password\")\n",
    "    \n",
    "        if elem_id and elem_password:\n",
    "            # ログインID入力\n",
    "            time.sleep(2)\n",
    "            elem_id.send_keys(LOGIN_ID)\n",
    "          \n",
    "            # パスワード入力\n",
    "            time.sleep(2)\n",
    "            elem_password.send_keys(PASSWORD)\n",
    "              \n",
    "      \n",
    "            # ログインボタンクリック\n",
    "            time.sleep(2)\n",
    "            elem_btn = WebDriverWait(driver, 10).until(\n",
    "                EC.visibility_of_element_located((By.XPATH, '//*[@id=\"loginForm\"]/div/div[3]/button'))\n",
    "            )\n",
    "             \n",
    "            actions = ActionChains(driver)\n",
    "            actions.move_to_element(elem_btn)\n",
    "            actions.click(elem_btn)\n",
    "            actions.perform()\n",
    " \n",
    "            # 適当（3秒間待つように対応しています）\n",
    "            time.sleep(3)\n",
    " \n",
    "            # 遷移\n",
    "            # 遷移後のURLでログイン可否をチェック\n",
    "            perform_url = driver.current_url\n",
    "              \n",
    "            if perform_url.find(login_url) == -1:\n",
    "                # ログイン成功\n",
    "                return True\n",
    "            else:\n",
    "                # ログイン失敗\n",
    "                return False\n",
    "               \n",
    "        else:\n",
    "            return False\n",
    "    except:\n",
    "        return False "
   ]
  },
  {
   "cell_type": "markdown",
   "id": "b2a9eba4-3051-4f9b-a1d1-67cdb2354efb",
   "metadata": {},
   "source": [
    "## スクレイピング関数"
   ]
  },
  {
   "cell_type": "code",
   "execution_count": 17,
   "id": "66d7f251-9d39-4a36-9c8e-34ec47551c87",
   "metadata": {},
   "outputs": [],
   "source": [
    "# driver取得\n",
    "def get_driver():\n",
    "      \n",
    "    #　ヘッドレスモードでブラウザを起動\n",
    "    options = Options()\n",
    "    #options.add_argument('--headless')\n",
    "    options.add_argument(\"--user-data-dir=\" + PROFILE_PATH)\n",
    "        \n",
    "    # ブラウザーを起動\n",
    "    driver = webdriver.Chrome(ChromeDriverManager().install(), options=options) \n",
    "    #driver = webdriver.Chrome(CHROMEDRIVER, options=options)\n",
    "      \n",
    "    return driver"
   ]
  },
  {
   "cell_type": "code",
   "execution_count": 18,
   "id": "9c71933c-2f46-4e12-b6e0-100e115880c4",
   "metadata": {},
   "outputs": [],
   "source": [
    "# 対象ページ取得\n",
    "def get_text_from_target_page(driver, first_flg, url):\n",
    "    \n",
    "    #最大三回ループ\n",
    "    for x in range(0, 3):\n",
    "        try:\n",
    "            # ターゲット\n",
    "            driver.get(url)\n",
    "            driver.implicitly_wait(10)\n",
    "\n",
    "            if first_flg:    \n",
    "                # articleタグが読み込まれるまで待機（最大300秒）\n",
    "                WebDriverWait(driver, 30).until(EC.visibility_of_element_located((By.TAG_NAME, 'article')))\n",
    "        except:\n",
    "            print('get_text_from_target_page エラーのため処理中断')\n",
    "            if x == 2:\n",
    "                return 'エラー'\n",
    "                break\n",
    "        else:\n",
    "            break\n",
    "    \n",
    "    return driver.page_source"
   ]
  },
  {
   "cell_type": "code",
   "execution_count": 19,
   "id": "446e7df2-49a9-495f-92a4-45eec9d64ae2",
   "metadata": {},
   "outputs": [],
   "source": [
    "# 正規表現で値を抽出\n",
    "def get_search_value(ptn, str):\n",
    "      \n",
    "    result = re.search(ptn, str)\n",
    "      \n",
    "    if result:\n",
    "        return result.group(1)\n",
    "    else:\n",
    "        return None\n",
    "     "
   ]
  },
  {
   "cell_type": "code",
   "execution_count": 20,
   "id": "ff697384-7590-4463-ba20-47c5ef4923a4",
   "metadata": {},
   "outputs": [],
   "source": [
    "# info取得\n",
    "def get_info_from_text(text):\n",
    "    INSTAGRAM_DOMAIN = \"https://www.instagram.com\"\n",
    "    soup = bs4.BeautifulSoup(text, features='lxml')\n",
    "      \n",
    "    try:\n",
    "        info = {}\n",
    "        # 投稿（v1Nh3 kIKUG  _bz0w）\n",
    "        elems = soup.find_all(class_=\"v1Nh3\")\n",
    "         \n",
    "        for elem in elems:\n",
    "            a_elem = elem.find(\"a\")\n",
    "            href = a_elem[\"href\"]    \n",
    "            url = INSTAGRAM_DOMAIN + href\n",
    "            post_id = get_search_value(\"\\/p\\/(.*)\\/\", href)\n",
    "             \n",
    "            # img情報\n",
    "            img_elem = elem.find(\"img\")\n",
    "            #alt = img_elem[\"alt\"]\n",
    "             \n",
    "            post_dic = {}\n",
    "            post_dic[\"url\"] = url\n",
    "            #post_dic[\"alt\"] = alt\n",
    "             \n",
    "            info[post_id] = post_dic\n",
    "              \n",
    "        return info\n",
    "         \n",
    "    except:\n",
    "        return None"
   ]
  },
  {
   "cell_type": "code",
   "execution_count": 21,
   "id": "a91ba726-77c2-4b33-ab93-c086f88acc24",
   "metadata": {},
   "outputs": [],
   "source": [
    "# 最後の要素までスクロール\n",
    "def scroll_to_elem(driver, footer_move_flg):\n",
    "     \n",
    "    try:\n",
    "        if footer_move_flg:\n",
    "            last_elem = driver.find_element_by_id(\"fb-root\")   \n",
    " \n",
    " \n",
    "            actions = ActionChains(driver);\n",
    "            actions.move_to_element(last_elem);\n",
    "            actions.perform();\n",
    "        else:\n",
    "            # 最後の要素の一つ前までスクロール\n",
    "            elems = driver.find_elements_by_class_name(\"weEfm\")\n",
    "            last_elem = elems[-1]\n",
    "              \n",
    "            actions = ActionChains(driver);\n",
    "            actions.move_to_element(last_elem);\n",
    "            actions.perform();\n",
    "          \n",
    "        return True\n",
    "    except:\n",
    "        return False"
   ]
  },
  {
   "cell_type": "code",
   "execution_count": 22,
   "id": "a71f35c3-6fb0-4632-8a04-5d66b25713cd",
   "metadata": {},
   "outputs": [],
   "source": [
    "# 投稿件数取得\n",
    "def get_post_count(text):\n",
    "    try:\n",
    "        json_str = get_search_value(\"window._sharedData = (.*);<\\/script>\", text)\n",
    "        dict = json.loads(json_str)\n",
    "        post_count = dict[\"entry_data\"][\"TagPage\"][0][\"graphql\"][\"hashtag\"][\"edge_hashtag_to_media\"][\"count\"]\n",
    "        return post_count\n",
    "    except:\n",
    "        return MIN_COUNT"
   ]
  },
  {
   "cell_type": "markdown",
   "id": "2754cb81-0682-4480-8f4d-6d5176476549",
   "metadata": {},
   "source": [
    "## 実行Script"
   ]
  },
  {
   "cell_type": "code",
   "execution_count": 23,
   "id": "9a617fd9-f6ad-4440-95b9-9690fdcc6bdf",
   "metadata": {},
   "outputs": [],
   "source": [
    "import warnings\n",
    "#ワーニング譜表示\n",
    "warnings.simplefilter('ignore')"
   ]
  },
  {
   "cell_type": "code",
   "execution_count": 24,
   "id": "6531918a-af45-4398-be19-62d2b53be3cf",
   "metadata": {},
   "outputs": [],
   "source": [
    "######設定###########################\n",
    "CHROMEDRIVER = \"./chromedriver.exe\"\n",
    "LOGIN_ID = \"your acountID\"\n",
    "PASSWORD = \"password\"\n",
    "PROFILE_PATH = 'C:/Users/hoge/AppData/Local/Google/Chrome/User Data'\n",
    "#####################################\n",
    "\n",
    "#chrome側でログイン情報保存済の場合は起動必要なし\n",
    "\n",
    "# # ブラウザーを起動\n",
    "# driver = get_driver()\n",
    "# time.sleep(5)\n",
    "\n",
    "# # ログイン\n",
    "# #do_login(driver)\n",
    "# time.sleep(random.uniform(2, 5))"
   ]
  },
  {
   "cell_type": "markdown",
   "id": "a678d5b5-96ab-4bf7-8dc5-7d548c500b93",
   "metadata": {
    "tags": []
   },
   "source": [
    "### SNSログイン→検索ワードでスクレイピング"
   ]
  },
  {
   "cell_type": "code",
   "execution_count": 25,
   "id": "6f230491-b542-469d-9c9e-673c8d03342b",
   "metadata": {},
   "outputs": [
    {
     "name": "stderr",
     "output_type": "stream",
     "text": [
      "\n",
      "\n",
      "====== WebDriver manager ======\n",
      "Current google-chrome version is 100.0.4896\n",
      "Get LATEST chromedriver version for 100.0.4896 google-chrome\n",
      "Driver [C:\\Users\\kohiz\\.wdm\\drivers\\chromedriver\\win32\\100.0.4896.60\\chromedriver.exe] found in cache\n"
     ]
    },
    {
     "name": "stdout",
     "output_type": "stream",
     "text": [
      "合計：50\n",
      "21\n",
      "33\n",
      "33\n",
      "60\n"
     ]
    }
   ],
   "source": [
    "\n",
    "if __name__ == '__main__':\n",
    "     \n",
    "    # url\n",
    "    url = f\"https://www.instagram.com/explore/tags/{KEYWORD}/\"\n",
    " \n",
    "    # ブラウザーを起動\n",
    "    driver = get_driver()\n",
    "    time.sleep(5)\n",
    "    \n",
    "    # ログイン\n",
    "    #do_login(driver)\n",
    "    time.sleep(random.uniform(2, 5))\n",
    " \n",
    "    # 対象ページのhtmlソース取得\n",
    "    text_0 = get_text_from_target_page(driver, True, url)\n",
    "    post_count = get_post_count(text_0)\n",
    "    print(\"合計：\" + str(post_count))\n",
    "     \n",
    "    info_all = {}\n",
    "    count_info = 0\n",
    "    buf_count_info = 0\n",
    "    \n",
    "    #MIN_COUNTまでループ\n",
    "    while count_info < MIN_COUNT:\n",
    "\n",
    "        # スクロール後対象ページのhtmlソース取得\n",
    "        text_1 = driver.page_source\n",
    "        info = get_info_from_text(text_1)\n",
    "\n",
    "        if not None:\n",
    "            info_all.update(info)\n",
    "\n",
    "        count_info = len(info_all)\n",
    "        time.sleep(1)\n",
    "        print(count_info)\n",
    "\n",
    "        if buf_count_info==count_info:\n",
    "            time.sleep(3)\n",
    "\n",
    "        result_flg = scroll_to_elem(driver, False)\n",
    "        buf_count_info = count_info\n",
    "\n",
    "        if post_count <= count_info:\n",
    "            break\n",
    "            \n",
    "time.sleep(5)"
   ]
  },
  {
   "cell_type": "markdown",
   "id": "a9d7fdcd-c06d-4b3a-9aa9-3541c66a928b",
   "metadata": {
    "tags": []
   },
   "source": [
    "### Insstagramでフォローする"
   ]
  },
  {
   "cell_type": "code",
   "execution_count": null,
   "id": "9b7ec414-8cab-4752-8f05-9d8ce13b26d7",
   "metadata": {},
   "outputs": [
    {
     "name": "stderr",
     "output_type": "stream",
     "text": [
      "57it [17:27, 16.93s/it]"
     ]
    }
   ],
   "source": [
    "##追加検討###########################\n",
    "#いいね取り消しや既いいね判断\n",
    "####################################\n",
    "\n",
    "\n",
    "follower = []\n",
    "follow = []\n",
    "\n",
    "#確立用\n",
    "List = ['a', 'b']\n",
    "\n",
    "for i, x in tqdm(enumerate(info_all)):\n",
    "    \n",
    "    #投稿ページ取得    \n",
    "    post_text = get_text_from_target_page(driver, True, info_all[x]['url'])\n",
    "    time.sleep(random.uniform(1, 5))\n",
    "    \n",
    "    #70%の確立でいいね→フォローするしないを設定\n",
    "    if np.random.choice(List, 1, p=[0.70, 0.30])[0] == 'a':\n",
    "        if post_text:            \n",
    "            #いいね\n",
    "            time.sleep(random.uniform(1, 5))\n",
    "            like = driver.find_element_by_class_name('fr66n')\n",
    "            like.click()\n",
    "            #driver.execute_script(\"arguments[0].click();\", like)\n",
    "            \n",
    "            #ユーザー名取得\n",
    "            time.sleep(1)\n",
    "            user = driver.find_element_by_class_name('Jv7Aj.mArmR.MqpiF')\n",
    "            user_name = user.text\n",
    "            \n",
    "            #ユーザーページ遷移\n",
    "            time.sleep(random.uniform(1, 5))\n",
    "            driver.get(f'https://www.instagram.com/{user_name}/')\n",
    "            \n",
    "            try:\n",
    "                #フォロワー数を取得\n",
    "                time.sleep(1)\n",
    "                tmp = driver.find_elements_by_css_selector(\"li.Y8-fY\")[1]\n",
    "                tmp = tmp.text.replace('フォロワー', '')\n",
    "                tmp = tmp.replace('人', '')\n",
    "                follower = int(tmp)\n",
    "\n",
    "                #フォロー数を取得\n",
    "                time.sleep(1)\n",
    "                tmp = driver.find_elements_by_css_selector(\"li.Y8-fY\")[2]\n",
    "                tmp = tmp.text.replace('フォロー中', '')\n",
    "                tmp = tmp.replace('人', '')\n",
    "                follow = int(tmp)\n",
    "            \n",
    "            #xx万人 対策(フォローしない)\n",
    "            except:\n",
    "                follower = 1\n",
    "                follow = 0\n",
    "            \n",
    "            #クールダウン\n",
    "            time.sleep(random.uniform(2, 5))\n",
    "            \n",
    "            #フォロワーよりもフォロー数が多いときだけ\n",
    "            if follow > follower:\n",
    "\n",
    "                #更に70%の確立でフォロー\n",
    "                if np.random.choice(List, 1, p=[0.70, 0.30])[0] == 'a':\n",
    "                    #ユーザーページに戻ってくる\n",
    "                    driver.get(info_all[x]['url'])\n",
    "                    time.sleep(random.uniform(2, 5))\n",
    "\n",
    "                    #フォローボタン\n",
    "                    try:\n",
    "                        elem_button = driver.find_element_by_class_name('bY2yH') \n",
    "                        btn_text = elem_button.text\n",
    "                        #フォローが未だった場合のみ\n",
    "                        if btn_text.replace('•\\n', '') == 'フォローする':\n",
    "                            time.sleep(random.uniform(1, 5))\n",
    "                            elem_button.click()\n",
    "                    except:\n",
    "                        pass\n",
    "\n",
    "        #数秒待機で次の投稿ページへ\n",
    "        time.sleep(random.uniform(2, 5))\n",
    "\n",
    "driver.quit()\n",
    "print('completed!')"
   ]
  },
  {
   "cell_type": "code",
   "execution_count": null,
   "id": "b54cbf53-92a5-47f7-b472-ef937b6065cf",
   "metadata": {},
   "outputs": [],
   "source": [
    "#ワーニングをリセット\n",
    "warnings.resetwarnings()"
   ]
  },
  {
   "cell_type": "code",
   "execution_count": null,
   "id": "2e1b6aad-1cb5-4806-8940-59070085e7d4",
   "metadata": {},
   "outputs": [],
   "source": []
  },
  {
   "cell_type": "code",
   "execution_count": null,
   "id": "b11d08bc-72c9-477f-b3c0-dbe7fe5bcad7",
   "metadata": {},
   "outputs": [],
   "source": []
  },
  {
   "cell_type": "code",
   "execution_count": null,
   "id": "b3660ab7-0a58-43a4-93a3-ef6cbbdee1ba",
   "metadata": {},
   "outputs": [],
   "source": []
  },
  {
   "cell_type": "code",
   "execution_count": null,
   "id": "f26f2ffa-4be5-4989-9ca7-eb6f6789d45c",
   "metadata": {},
   "outputs": [],
   "source": []
  },
  {
   "cell_type": "code",
   "execution_count": null,
   "id": "8e19f4b3-d00b-4d63-86de-bb5c2ada5052",
   "metadata": {},
   "outputs": [],
   "source": []
  },
  {
   "cell_type": "code",
   "execution_count": null,
   "id": "db8ed118-cc14-480a-a8b2-495f0aa462e8",
   "metadata": {},
   "outputs": [],
   "source": []
  },
  {
   "cell_type": "code",
   "execution_count": null,
   "id": "81dda547-01a9-46ec-a1a6-c6be3ae3828f",
   "metadata": {},
   "outputs": [],
   "source": []
  },
  {
   "cell_type": "code",
   "execution_count": null,
   "id": "2379edc1-4f2b-4950-8277-7fd02ddf707b",
   "metadata": {},
   "outputs": [],
   "source": []
  },
  {
   "cell_type": "code",
   "execution_count": null,
   "id": "22d58ce0-55b0-46bb-94e2-4a82c0f19d42",
   "metadata": {},
   "outputs": [],
   "source": []
  },
  {
   "cell_type": "code",
   "execution_count": null,
   "id": "d331794a-ef92-4ffc-acaf-523fbbadba59",
   "metadata": {},
   "outputs": [],
   "source": []
  },
  {
   "cell_type": "code",
   "execution_count": null,
   "id": "16cdfb94-c32c-4349-9a24-73f20ec14cf4",
   "metadata": {},
   "outputs": [],
   "source": []
  },
  {
   "cell_type": "code",
   "execution_count": null,
   "id": "4f032a5f-0b9a-4281-9db8-3f19e2c42c24",
   "metadata": {},
   "outputs": [],
   "source": []
  },
  {
   "cell_type": "code",
   "execution_count": null,
   "id": "3fb3a01f-301c-4f2d-a511-2ab2eb323595",
   "metadata": {},
   "outputs": [],
   "source": []
  },
  {
   "cell_type": "code",
   "execution_count": null,
   "id": "77d52420-4072-4e9c-8449-fb358132e14c",
   "metadata": {},
   "outputs": [],
   "source": []
  },
  {
   "cell_type": "code",
   "execution_count": null,
   "id": "f1701273-6a9e-4051-8866-cbda3d15c955",
   "metadata": {},
   "outputs": [],
   "source": []
  },
  {
   "cell_type": "code",
   "execution_count": null,
   "id": "32c96510-968e-4bb5-990e-e1b36ff1ecbb",
   "metadata": {},
   "outputs": [],
   "source": []
  },
  {
   "cell_type": "code",
   "execution_count": null,
   "id": "cf89cf64-26bd-487e-9e1e-cb3513adfa0a",
   "metadata": {},
   "outputs": [],
   "source": []
  },
  {
   "cell_type": "code",
   "execution_count": null,
   "id": "88ef13d3-3349-40b5-9f27-cb4b407d79dc",
   "metadata": {},
   "outputs": [],
   "source": []
  },
  {
   "cell_type": "code",
   "execution_count": null,
   "id": "9009e39c-3d88-4067-ac30-87c462f0af50",
   "metadata": {},
   "outputs": [],
   "source": []
  },
  {
   "cell_type": "code",
   "execution_count": null,
   "id": "c17d677f-595e-4e8e-9f1d-94f160628e98",
   "metadata": {},
   "outputs": [],
   "source": []
  },
  {
   "cell_type": "code",
   "execution_count": null,
   "id": "e18fd39d-67f4-4f28-af6e-6e290fa92354",
   "metadata": {},
   "outputs": [],
   "source": []
  },
  {
   "cell_type": "code",
   "execution_count": null,
   "id": "03e7de7d-9778-4046-980e-4c7eb3a36176",
   "metadata": {},
   "outputs": [],
   "source": []
  },
  {
   "cell_type": "code",
   "execution_count": null,
   "id": "3e06a572-872f-4a94-bc73-cee2d0846252",
   "metadata": {},
   "outputs": [],
   "source": []
  },
  {
   "cell_type": "code",
   "execution_count": null,
   "id": "effb7cbc-1531-4778-b1b1-c00065614b37",
   "metadata": {},
   "outputs": [],
   "source": []
  },
  {
   "cell_type": "code",
   "execution_count": null,
   "id": "a6608395-76d5-4f99-a265-e5d5cf4b4e72",
   "metadata": {},
   "outputs": [],
   "source": []
  },
  {
   "cell_type": "code",
   "execution_count": null,
   "id": "bd1c9456-c721-428b-997f-a11da3d639c5",
   "metadata": {},
   "outputs": [],
   "source": []
  }
 ],
 "metadata": {
  "kernelspec": {
   "display_name": "Python 3 (ipykernel)",
   "language": "python",
   "name": "python3"
  },
  "language_info": {
   "codemirror_mode": {
    "name": "ipython",
    "version": 3
   },
   "file_extension": ".py",
   "mimetype": "text/x-python",
   "name": "python",
   "nbconvert_exporter": "python",
   "pygments_lexer": "ipython3",
   "version": "3.8.12"
  }
 },
 "nbformat": 4,
 "nbformat_minor": 5
}
